{
 "cells": [
  {
   "cell_type": "markdown",
   "metadata": {},
   "source": [
    "## 1. Let's import pandas and numpy."
   ]
  },
  {
   "cell_type": "code",
   "execution_count": 3,
   "metadata": {},
   "outputs": [],
   "source": [
    "import numpy as np\n",
    "import pandas as pd"
   ]
  },
  {
   "cell_type": "markdown",
   "metadata": {},
   "source": [
    "## 2. Loading the datasets."
   ]
  },
  {
   "cell_type": "code",
   "execution_count": 5,
   "metadata": {},
   "outputs": [],
   "source": [
    "data_train = pd.read_csv('train.csv') #train data\n",
    "data_test = pd.read_csv('test.csv') #test data\n",
    "data_labels = data_train['y'] #selecting 'y' column from the train data to use as label\n",
    "#galaxy_names = data_train.pop('galaxy')\n",
    "\n"
   ]
  },
  {
   "cell_type": "code",
   "execution_count": null,
   "metadata": {},
   "outputs": [],
   "source": [
    "data_train.head()"
   ]
  },
  {
   "cell_type": "code",
   "execution_count": 6,
   "metadata": {},
   "outputs": [
    {
     "data": {
      "text/html": [
       "<div>\n",
       "<style scoped>\n",
       "    .dataframe tbody tr th:only-of-type {\n",
       "        vertical-align: middle;\n",
       "    }\n",
       "\n",
       "    .dataframe tbody tr th {\n",
       "        vertical-align: top;\n",
       "    }\n",
       "\n",
       "    .dataframe thead th {\n",
       "        text-align: right;\n",
       "    }\n",
       "</style>\n",
       "<table border=\"1\" class=\"dataframe\">\n",
       "  <thead>\n",
       "    <tr style=\"text-align: right;\">\n",
       "      <th></th>\n",
       "      <th>galactic year</th>\n",
       "      <th>galaxy</th>\n",
       "      <th>existence expectancy index</th>\n",
       "      <th>existence expectancy at birth</th>\n",
       "      <th>Gross income per capita</th>\n",
       "      <th>Income Index</th>\n",
       "      <th>Expected years of education (galactic years)</th>\n",
       "      <th>Mean years of education (galactic years)</th>\n",
       "      <th>Intergalactic Development Index (IDI)</th>\n",
       "      <th>Education Index</th>\n",
       "      <th>...</th>\n",
       "      <th>Current health expenditure (% of GGP)</th>\n",
       "      <th>Intergalactic Development Index (IDI), female</th>\n",
       "      <th>Intergalactic Development Index (IDI), male</th>\n",
       "      <th>Gender Development Index (GDI)</th>\n",
       "      <th>Intergalactic Development Index (IDI), female, Rank</th>\n",
       "      <th>Intergalactic Development Index (IDI), male, Rank</th>\n",
       "      <th>Adjusted net savings</th>\n",
       "      <th>Creature Immunodeficiency Disease prevalence, adult (% ages 15-49), total</th>\n",
       "      <th>Private galaxy capital flows (% of GGP)</th>\n",
       "      <th>Gender Inequality Index (GII)</th>\n",
       "    </tr>\n",
       "  </thead>\n",
       "  <tbody>\n",
       "    <tr>\n",
       "      <th>0</th>\n",
       "      <td>1007012</td>\n",
       "      <td>KK98 77</td>\n",
       "      <td>0.456086</td>\n",
       "      <td>51.562543</td>\n",
       "      <td>12236.576447</td>\n",
       "      <td>0.593325</td>\n",
       "      <td>10.414164</td>\n",
       "      <td>10.699072</td>\n",
       "      <td>0.547114</td>\n",
       "      <td>0.556267</td>\n",
       "      <td>...</td>\n",
       "      <td>NaN</td>\n",
       "      <td>NaN</td>\n",
       "      <td>NaN</td>\n",
       "      <td>NaN</td>\n",
       "      <td>NaN</td>\n",
       "      <td>NaN</td>\n",
       "      <td>NaN</td>\n",
       "      <td>NaN</td>\n",
       "      <td>NaN</td>\n",
       "      <td>NaN</td>\n",
       "    </tr>\n",
       "    <tr>\n",
       "      <th>1</th>\n",
       "      <td>1007012</td>\n",
       "      <td>Reticulum III</td>\n",
       "      <td>0.529835</td>\n",
       "      <td>57.228262</td>\n",
       "      <td>3431.883825</td>\n",
       "      <td>0.675407</td>\n",
       "      <td>7.239485</td>\n",
       "      <td>5.311122</td>\n",
       "      <td>0.497688</td>\n",
       "      <td>0.409969</td>\n",
       "      <td>...</td>\n",
       "      <td>NaN</td>\n",
       "      <td>NaN</td>\n",
       "      <td>NaN</td>\n",
       "      <td>NaN</td>\n",
       "      <td>NaN</td>\n",
       "      <td>NaN</td>\n",
       "      <td>NaN</td>\n",
       "      <td>NaN</td>\n",
       "      <td>NaN</td>\n",
       "      <td>NaN</td>\n",
       "    </tr>\n",
       "    <tr>\n",
       "      <th>2</th>\n",
       "      <td>1008016</td>\n",
       "      <td>Reticulum III</td>\n",
       "      <td>0.560976</td>\n",
       "      <td>59.379539</td>\n",
       "      <td>27562.914252</td>\n",
       "      <td>0.594624</td>\n",
       "      <td>11.774890</td>\n",
       "      <td>5.937797</td>\n",
       "      <td>0.544744</td>\n",
       "      <td>0.486167</td>\n",
       "      <td>...</td>\n",
       "      <td>NaN</td>\n",
       "      <td>NaN</td>\n",
       "      <td>NaN</td>\n",
       "      <td>NaN</td>\n",
       "      <td>NaN</td>\n",
       "      <td>NaN</td>\n",
       "      <td>NaN</td>\n",
       "      <td>NaN</td>\n",
       "      <td>NaN</td>\n",
       "      <td>NaN</td>\n",
       "    </tr>\n",
       "    <tr>\n",
       "      <th>3</th>\n",
       "      <td>1007012</td>\n",
       "      <td>Segue 1</td>\n",
       "      <td>0.565910</td>\n",
       "      <td>59.952390</td>\n",
       "      <td>20352.232905</td>\n",
       "      <td>0.837700</td>\n",
       "      <td>11.613621</td>\n",
       "      <td>10.067882</td>\n",
       "      <td>0.691641</td>\n",
       "      <td>0.523441</td>\n",
       "      <td>...</td>\n",
       "      <td>NaN</td>\n",
       "      <td>NaN</td>\n",
       "      <td>NaN</td>\n",
       "      <td>NaN</td>\n",
       "      <td>NaN</td>\n",
       "      <td>NaN</td>\n",
       "      <td>NaN</td>\n",
       "      <td>NaN</td>\n",
       "      <td>NaN</td>\n",
       "      <td>NaN</td>\n",
       "    </tr>\n",
       "    <tr>\n",
       "      <th>4</th>\n",
       "      <td>1013042</td>\n",
       "      <td>Virgo I</td>\n",
       "      <td>0.588274</td>\n",
       "      <td>55.428320</td>\n",
       "      <td>23959.704016</td>\n",
       "      <td>0.520579</td>\n",
       "      <td>10.392416</td>\n",
       "      <td>6.374637</td>\n",
       "      <td>0.530676</td>\n",
       "      <td>0.580418</td>\n",
       "      <td>...</td>\n",
       "      <td>7.357729</td>\n",
       "      <td>0.583373</td>\n",
       "      <td>0.600445</td>\n",
       "      <td>0.856158</td>\n",
       "      <td>206.674424</td>\n",
       "      <td>224.104054</td>\n",
       "      <td>NaN</td>\n",
       "      <td>7.687626</td>\n",
       "      <td>NaN</td>\n",
       "      <td>NaN</td>\n",
       "    </tr>\n",
       "  </tbody>\n",
       "</table>\n",
       "<p>5 rows × 79 columns</p>\n",
       "</div>"
      ],
      "text/plain": [
       "   galactic year         galaxy  existence expectancy index  \\\n",
       "0        1007012        KK98 77                    0.456086   \n",
       "1        1007012  Reticulum III                    0.529835   \n",
       "2        1008016  Reticulum III                    0.560976   \n",
       "3        1007012        Segue 1                    0.565910   \n",
       "4        1013042        Virgo I                    0.588274   \n",
       "\n",
       "   existence expectancy at birth  Gross income per capita  Income Index  \\\n",
       "0                      51.562543             12236.576447      0.593325   \n",
       "1                      57.228262              3431.883825      0.675407   \n",
       "2                      59.379539             27562.914252      0.594624   \n",
       "3                      59.952390             20352.232905      0.837700   \n",
       "4                      55.428320             23959.704016      0.520579   \n",
       "\n",
       "   Expected years of education (galactic years)  \\\n",
       "0                                     10.414164   \n",
       "1                                      7.239485   \n",
       "2                                     11.774890   \n",
       "3                                     11.613621   \n",
       "4                                     10.392416   \n",
       "\n",
       "   Mean years of education (galactic years)  \\\n",
       "0                                 10.699072   \n",
       "1                                  5.311122   \n",
       "2                                  5.937797   \n",
       "3                                 10.067882   \n",
       "4                                  6.374637   \n",
       "\n",
       "   Intergalactic Development Index (IDI)  Education Index  ...  \\\n",
       "0                               0.547114         0.556267  ...   \n",
       "1                               0.497688         0.409969  ...   \n",
       "2                               0.544744         0.486167  ...   \n",
       "3                               0.691641         0.523441  ...   \n",
       "4                               0.530676         0.580418  ...   \n",
       "\n",
       "   Current health expenditure (% of GGP)  \\\n",
       "0                                    NaN   \n",
       "1                                    NaN   \n",
       "2                                    NaN   \n",
       "3                                    NaN   \n",
       "4                               7.357729   \n",
       "\n",
       "   Intergalactic Development Index (IDI), female  \\\n",
       "0                                            NaN   \n",
       "1                                            NaN   \n",
       "2                                            NaN   \n",
       "3                                            NaN   \n",
       "4                                       0.583373   \n",
       "\n",
       "   Intergalactic Development Index (IDI), male  \\\n",
       "0                                          NaN   \n",
       "1                                          NaN   \n",
       "2                                          NaN   \n",
       "3                                          NaN   \n",
       "4                                     0.600445   \n",
       "\n",
       "   Gender Development Index (GDI)  \\\n",
       "0                             NaN   \n",
       "1                             NaN   \n",
       "2                             NaN   \n",
       "3                             NaN   \n",
       "4                        0.856158   \n",
       "\n",
       "   Intergalactic Development Index (IDI), female, Rank  \\\n",
       "0                                                NaN     \n",
       "1                                                NaN     \n",
       "2                                                NaN     \n",
       "3                                                NaN     \n",
       "4                                         206.674424     \n",
       "\n",
       "   Intergalactic Development Index (IDI), male, Rank  Adjusted net savings   \\\n",
       "0                                                NaN                    NaN   \n",
       "1                                                NaN                    NaN   \n",
       "2                                                NaN                    NaN   \n",
       "3                                                NaN                    NaN   \n",
       "4                                         224.104054                    NaN   \n",
       "\n",
       "   Creature Immunodeficiency Disease prevalence, adult (% ages 15-49), total  \\\n",
       "0                                                NaN                           \n",
       "1                                                NaN                           \n",
       "2                                                NaN                           \n",
       "3                                                NaN                           \n",
       "4                                           7.687626                           \n",
       "\n",
       "   Private galaxy capital flows (% of GGP)  Gender Inequality Index (GII)  \n",
       "0                                      NaN                            NaN  \n",
       "1                                      NaN                            NaN  \n",
       "2                                      NaN                            NaN  \n",
       "3                                      NaN                            NaN  \n",
       "4                                      NaN                            NaN  \n",
       "\n",
       "[5 rows x 79 columns]"
      ]
     },
     "execution_count": 6,
     "metadata": {},
     "output_type": "execute_result"
    }
   ],
   "source": [
    "data_test.head()"
   ]
  },
  {
   "cell_type": "markdown",
   "metadata": {},
   "source": [
    "## 3. Let's check the shape of the training and testing data, and have a view of the columns datatypes and names."
   ]
  },
  {
   "cell_type": "code",
   "execution_count": 7,
   "metadata": {},
   "outputs": [
    {
     "name": "stdout",
     "output_type": "stream",
     "text": [
      "(3865, 80)\n",
      "(890, 79)\n"
     ]
    }
   ],
   "source": [
    "print(data_train.shape)\n",
    "print(data_test.shape)"
   ]
  },
  {
   "cell_type": "code",
   "execution_count": 8,
   "metadata": {},
   "outputs": [
    {
     "data": {
      "text/plain": [
       "{'galactic year': dtype('int64'),\n",
       " 'galaxy': dtype('O'),\n",
       " 'existence expectancy index': dtype('float64'),\n",
       " 'existence expectancy at birth': dtype('float64'),\n",
       " 'Gross income per capita': dtype('float64'),\n",
       " 'Income Index': dtype('float64'),\n",
       " 'Expected years of education (galactic years)': dtype('float64'),\n",
       " 'Mean years of education (galactic years)': dtype('float64'),\n",
       " 'Intergalactic Development Index (IDI)': dtype('float64'),\n",
       " 'Education Index': dtype('float64'),\n",
       " 'Intergalactic Development Index (IDI), Rank': dtype('float64'),\n",
       " 'Population using at least basic drinking-water services (%)': dtype('float64'),\n",
       " 'Population using at least basic sanitation services (%)': dtype('float64'),\n",
       " 'Gross capital formation (% of GGP)': dtype('float64'),\n",
       " 'Population, total (millions)': dtype('float64'),\n",
       " 'Population, urban (%)': dtype('float64'),\n",
       " 'Mortality rate, under-five (per 1,000 live births)': dtype('float64'),\n",
       " 'Mortality rate, infant (per 1,000 live births)': dtype('float64'),\n",
       " 'Old age dependency ratio (old age (65 and older) per 100 creatures (ages 15-64))': dtype('float64'),\n",
       " 'Population, ages 15–64 (millions)': dtype('float64'),\n",
       " 'Population, ages 65 and older (millions)': dtype('float64'),\n",
       " 'Life expectancy at birth, male (galactic years)': dtype('float64'),\n",
       " 'Life expectancy at birth, female (galactic years)': dtype('float64'),\n",
       " 'Population, under age 5 (millions)': dtype('float64'),\n",
       " 'Young age (0-14) dependency ratio (per 100 creatures ages 15-64)': dtype('float64'),\n",
       " 'Adolescent birth rate (births per 1,000 female creatures ages 15-19)': dtype('float64'),\n",
       " 'Total unemployment rate (female to male ratio)': dtype('float64'),\n",
       " 'Vulnerable employment (% of total employment)': dtype('float64'),\n",
       " 'Unemployment, total (% of labour force)': dtype('float64'),\n",
       " 'Employment in agriculture (% of total employment)': dtype('float64'),\n",
       " 'Labour force participation rate (% ages 15 and older)': dtype('float64'),\n",
       " 'Labour force participation rate (% ages 15 and older), female': dtype('float64'),\n",
       " 'Employment in services (% of total employment)': dtype('float64'),\n",
       " 'Labour force participation rate (% ages 15 and older), male': dtype('float64'),\n",
       " 'Employment to population ratio (% ages 15 and older)': dtype('float64'),\n",
       " 'Jungle area (% of total land area)': dtype('float64'),\n",
       " 'Share of employment in nonagriculture, female (% of total employment in nonagriculture)': dtype('float64'),\n",
       " 'Youth unemployment rate (female to male ratio)': dtype('float64'),\n",
       " 'Unemployment, youth (% ages 15–24)': dtype('float64'),\n",
       " 'Mortality rate, female grown up (per 1,000 people)': dtype('float64'),\n",
       " 'Mortality rate, male grown up (per 1,000 people)': dtype('float64'),\n",
       " 'Infants lacking immunization, red hot disease (% of one-galactic year-olds)': dtype('float64'),\n",
       " 'Infants lacking immunization, Combination Vaccine (% of one-galactic year-olds)': dtype('float64'),\n",
       " 'Gross galactic product (GGP) per capita': dtype('float64'),\n",
       " 'Gross galactic product (GGP), total': dtype('float64'),\n",
       " 'Outer Galaxies direct investment, net inflows (% of GGP)': dtype('float64'),\n",
       " 'Exports and imports (% of GGP)': dtype('float64'),\n",
       " 'Share of seats in senate (% held by female)': dtype('float64'),\n",
       " 'Natural resource depletion': dtype('float64'),\n",
       " 'Mean years of education, female (galactic years)': dtype('float64'),\n",
       " 'Mean years of education, male (galactic years)': dtype('float64'),\n",
       " 'Expected years of education, female (galactic years)': dtype('float64'),\n",
       " 'Expected years of education, male (galactic years)': dtype('float64'),\n",
       " 'Maternal mortality ratio (deaths per 100,000 live births)': dtype('float64'),\n",
       " 'Renewable energy consumption (% of total final energy consumption)': dtype('float64'),\n",
       " 'Estimated gross galactic income per capita, male': dtype('float64'),\n",
       " 'Estimated gross galactic income per capita, female': dtype('float64'),\n",
       " 'Rural population with access to electricity (%)': dtype('float64'),\n",
       " 'Domestic credit provided by financial sector (% of GGP)': dtype('float64'),\n",
       " 'Population with at least some secondary education, female (% ages 25 and older)': dtype('float64'),\n",
       " 'Population with at least some secondary education, male (% ages 25 and older)': dtype('float64'),\n",
       " 'Gross fixed capital formation (% of GGP)': dtype('float64'),\n",
       " 'Remittances, inflows (% of GGP)': dtype('float64'),\n",
       " 'Population with at least some secondary education (% ages 25 and older)': dtype('float64'),\n",
       " 'Intergalactic inbound tourists (thousands)': dtype('float64'),\n",
       " 'Gross enrolment ratio, primary (% of primary under-age population)': dtype('float64'),\n",
       " 'Respiratory disease incidence (per 100,000 people)': dtype('float64'),\n",
       " 'Interstellar phone subscriptions (per 100 people)': dtype('float64'),\n",
       " 'Interstellar Data Net users, total (% of population)': dtype('float64'),\n",
       " 'Current health expenditure (% of GGP)': dtype('float64'),\n",
       " 'Intergalactic Development Index (IDI), female': dtype('float64'),\n",
       " 'Intergalactic Development Index (IDI), male': dtype('float64'),\n",
       " 'Gender Development Index (GDI)': dtype('float64'),\n",
       " 'Intergalactic Development Index (IDI), female, Rank': dtype('float64'),\n",
       " 'Intergalactic Development Index (IDI), male, Rank': dtype('float64'),\n",
       " 'Adjusted net savings ': dtype('float64'),\n",
       " 'Creature Immunodeficiency Disease prevalence, adult (% ages 15-49), total': dtype('float64'),\n",
       " 'Private galaxy capital flows (% of GGP)': dtype('float64'),\n",
       " 'Gender Inequality Index (GII)': dtype('float64'),\n",
       " 'y': dtype('float64')}"
      ]
     },
     "execution_count": 8,
     "metadata": {},
     "output_type": "execute_result"
    }
   ],
   "source": [
    "dict(data_train.dtypes)"
   ]
  },
  {
   "cell_type": "code",
   "execution_count": 16,
   "metadata": {},
   "outputs": [],
   "source": [
    "# data_train.columns[data_train.isna().sum()==0]\n",
    "# dict(data_train.isna().sum())"
   ]
  },
  {
   "cell_type": "markdown",
   "metadata": {},
   "source": [
    "## 4. Let's see columns that doesn't contain null values. They are likely key features."
   ]
  },
  {
   "cell_type": "code",
   "execution_count": 10,
   "metadata": {},
   "outputs": [
    {
     "name": "stdout",
     "output_type": "stream",
     "text": [
      "['galactic year', 'galaxy', 'y']\n"
     ]
    },
    {
     "data": {
      "text/plain": [
       "{'galactic year': 0,\n",
       " 'galaxy': 0,\n",
       " 'existence expectancy index': 1,\n",
       " 'existence expectancy at birth': 1,\n",
       " 'Gross income per capita': 28,\n",
       " 'Income Index': 28,\n",
       " 'Expected years of education (galactic years)': 133,\n",
       " 'Mean years of education (galactic years)': 363,\n",
       " 'Intergalactic Development Index (IDI)': 391,\n",
       " 'Education Index': 391,\n",
       " 'Intergalactic Development Index (IDI), Rank': 433,\n",
       " 'Population using at least basic drinking-water services (%)': 1844,\n",
       " 'Population using at least basic sanitation services (%)': 1850,\n",
       " 'Gross capital formation (% of GGP)': 2363,\n",
       " 'Population, total (millions)': 2594,\n",
       " 'Population, urban (%)': 2594,\n",
       " 'Mortality rate, under-five (per 1,000 live births)': 2594,\n",
       " 'Mortality rate, infant (per 1,000 live births)': 2606,\n",
       " 'Old age dependency ratio (old age (65 and older) per 100 creatures (ages 15-64))': 2601,\n",
       " 'Population, ages 15–64 (millions)': 2601,\n",
       " 'Population, ages 65 and older (millions)': 2601,\n",
       " 'Life expectancy at birth, male (galactic years)': 2601,\n",
       " 'Life expectancy at birth, female (galactic years)': 2601,\n",
       " 'Population, under age 5 (millions)': 2601,\n",
       " 'Young age (0-14) dependency ratio (per 100 creatures ages 15-64)': 2601,\n",
       " 'Adolescent birth rate (births per 1,000 female creatures ages 15-19)': 2613,\n",
       " 'Total unemployment rate (female to male ratio)': 2628,\n",
       " 'Vulnerable employment (% of total employment)': 2628,\n",
       " 'Unemployment, total (% of labour force)': 2628,\n",
       " 'Employment in agriculture (% of total employment)': 2628,\n",
       " 'Labour force participation rate (% ages 15 and older)': 2628,\n",
       " 'Labour force participation rate (% ages 15 and older), female': 2628,\n",
       " 'Employment in services (% of total employment)': 2628,\n",
       " 'Labour force participation rate (% ages 15 and older), male': 2628,\n",
       " 'Employment to population ratio (% ages 15 and older)': 2628,\n",
       " 'Jungle area (% of total land area)': 2631,\n",
       " 'Share of employment in nonagriculture, female (% of total employment in nonagriculture)': 2628,\n",
       " 'Youth unemployment rate (female to male ratio)': 2629,\n",
       " 'Unemployment, youth (% ages 15–24)': 2629,\n",
       " 'Mortality rate, female grown up (per 1,000 people)': 2612,\n",
       " 'Mortality rate, male grown up (per 1,000 people)': 2612,\n",
       " 'Infants lacking immunization, red hot disease (% of one-galactic year-olds)': 2646,\n",
       " 'Infants lacking immunization, Combination Vaccine (% of one-galactic year-olds)': 2646,\n",
       " 'Gross galactic product (GGP) per capita': 2663,\n",
       " 'Gross galactic product (GGP), total': 2663,\n",
       " 'Outer Galaxies direct investment, net inflows (% of GGP)': 2696,\n",
       " 'Exports and imports (% of GGP)': 2721,\n",
       " 'Share of seats in senate (% held by female)': 2742,\n",
       " 'Natural resource depletion': 2733,\n",
       " 'Mean years of education, female (galactic years)': 2725,\n",
       " 'Mean years of education, male (galactic years)': 2727,\n",
       " 'Expected years of education, female (galactic years)': 2756,\n",
       " 'Expected years of education, male (galactic years)': 2757,\n",
       " 'Maternal mortality ratio (deaths per 100,000 live births)': 2613,\n",
       " 'Renewable energy consumption (% of total final energy consumption)': 2630,\n",
       " 'Estimated gross galactic income per capita, male': 2810,\n",
       " 'Estimated gross galactic income per capita, female': 2810,\n",
       " 'Rural population with access to electricity (%)': 2836,\n",
       " 'Domestic credit provided by financial sector (% of GGP)': 2786,\n",
       " 'Population with at least some secondary education, female (% ages 25 and older)': 2776,\n",
       " 'Population with at least some secondary education, male (% ages 25 and older)': 2778,\n",
       " 'Gross fixed capital formation (% of GGP)': 2791,\n",
       " 'Remittances, inflows (% of GGP)': 2837,\n",
       " 'Population with at least some secondary education (% ages 25 and older)': 2814,\n",
       " 'Intergalactic inbound tourists (thousands)': 2870,\n",
       " 'Gross enrolment ratio, primary (% of primary under-age population)': 2827,\n",
       " 'Respiratory disease incidence (per 100,000 people)': 2969,\n",
       " 'Interstellar phone subscriptions (per 100 people)': 2974,\n",
       " 'Interstellar Data Net users, total (% of population)': 2993,\n",
       " 'Current health expenditure (% of GGP)': 2998,\n",
       " 'Intergalactic Development Index (IDI), female': 2949,\n",
       " 'Intergalactic Development Index (IDI), male': 2950,\n",
       " 'Gender Development Index (GDI)': 2951,\n",
       " 'Intergalactic Development Index (IDI), female, Rank': 2972,\n",
       " 'Intergalactic Development Index (IDI), male, Rank': 2973,\n",
       " 'Adjusted net savings ': 2953,\n",
       " 'Creature Immunodeficiency Disease prevalence, adult (% ages 15-49), total': 2924,\n",
       " 'Private galaxy capital flows (% of GGP)': 2991,\n",
       " 'Gender Inequality Index (GII)': 3021,\n",
       " 'y': 0}"
      ]
     },
     "execution_count": 10,
     "metadata": {},
     "output_type": "execute_result"
    }
   ],
   "source": [
    "print(list(data_train.columns[data_train.isna().sum() == 0])) #prints columns with no null values\n",
    "dict(data_train.isna().sum()) # a look at total null values in each column"
   ]
  },
  {
   "cell_type": "markdown",
   "metadata": {},
   "source": [
    "## 5. Let's check the columns that when recorded have unique value for each observation. Probably, they are highly important features."
   ]
  },
  {
   "cell_type": "code",
   "execution_count": 17,
   "metadata": {},
   "outputs": [
    {
     "data": {
      "text/plain": [
       "['existence expectancy index', 'existence expectancy at birth', 'y']"
      ]
     },
     "execution_count": 17,
     "metadata": {},
     "output_type": "execute_result"
    }
   ],
   "source": [
    "[i for i in data_train.columns if len(data_train[i].unique()) == data_train.shape[0]]"
   ]
  },
  {
   "cell_type": "markdown",
   "metadata": {},
   "source": [
    "## 6. Let's check the number of unique galaxy and galactic year in the training and testing data."
   ]
  },
  {
   "cell_type": "code",
   "execution_count": 18,
   "metadata": {},
   "outputs": [
    {
     "name": "stdout",
     "output_type": "stream",
     "text": [
      "181\n",
      "26\n",
      "172\n",
      "10\n"
     ]
    }
   ],
   "source": [
    "print(len(data_train['galaxy'].unique()))\n",
    "print(len(data_train['galactic year'].unique()))\n",
    "print(len(data_test['galaxy'].unique()))\n",
    "print(len(data_test['galactic year'].unique()))"
   ]
  },
  {
   "cell_type": "markdown",
   "metadata": {},
   "source": [
    "## 7. Let's check if indeed for every galaxy in the training data, there is one unique galactic year per observation.\n",
    "\n",
    "#### First, let's define a function that will group a dataset by a column_key and return a dictionary of column_key/dataframe pair."
   ]
  },
  {
   "cell_type": "code",
   "execution_count": 19,
   "metadata": {},
   "outputs": [],
   "source": [
    "def get_grouped_df(data, key):\n",
    "    groups = data.groupby(key)\n",
    "    dict_grp = {k: v for k, v in groups}\n",
    "    return dict_grp"
   ]
  },
  {
   "cell_type": "code",
   "execution_count": 20,
   "metadata": {},
   "outputs": [
    {
     "data": {
      "text/html": [
       "<div>\n",
       "<style scoped>\n",
       "    .dataframe tbody tr th:only-of-type {\n",
       "        vertical-align: middle;\n",
       "    }\n",
       "\n",
       "    .dataframe tbody tr th {\n",
       "        vertical-align: top;\n",
       "    }\n",
       "\n",
       "    .dataframe thead th {\n",
       "        text-align: right;\n",
       "    }\n",
       "</style>\n",
       "<table border=\"1\" class=\"dataframe\">\n",
       "  <thead>\n",
       "    <tr style=\"text-align: right;\">\n",
       "      <th></th>\n",
       "      <th>galactic year</th>\n",
       "      <th>galaxy</th>\n",
       "      <th>existence expectancy index</th>\n",
       "      <th>existence expectancy at birth</th>\n",
       "      <th>Gross income per capita</th>\n",
       "      <th>Income Index</th>\n",
       "      <th>Expected years of education (galactic years)</th>\n",
       "      <th>Mean years of education (galactic years)</th>\n",
       "      <th>Intergalactic Development Index (IDI)</th>\n",
       "      <th>Education Index</th>\n",
       "      <th>...</th>\n",
       "      <th>Intergalactic Development Index (IDI), female</th>\n",
       "      <th>Intergalactic Development Index (IDI), male</th>\n",
       "      <th>Gender Development Index (GDI)</th>\n",
       "      <th>Intergalactic Development Index (IDI), female, Rank</th>\n",
       "      <th>Intergalactic Development Index (IDI), male, Rank</th>\n",
       "      <th>Adjusted net savings</th>\n",
       "      <th>Creature Immunodeficiency Disease prevalence, adult (% ages 15-49), total</th>\n",
       "      <th>Private galaxy capital flows (% of GGP)</th>\n",
       "      <th>Gender Inequality Index (GII)</th>\n",
       "      <th>y</th>\n",
       "    </tr>\n",
       "  </thead>\n",
       "  <tbody>\n",
       "    <tr>\n",
       "      <th>2</th>\n",
       "      <td>990025</td>\n",
       "      <td>Virgo I</td>\n",
       "      <td>0.659443</td>\n",
       "      <td>59.570534</td>\n",
       "      <td>8441.707353</td>\n",
       "      <td>0.499762</td>\n",
       "      <td>8.840316</td>\n",
       "      <td>5.583973</td>\n",
       "      <td>0.469110</td>\n",
       "      <td>0.363837</td>\n",
       "      <td>...</td>\n",
       "      <td>NaN</td>\n",
       "      <td>NaN</td>\n",
       "      <td>NaN</td>\n",
       "      <td>NaN</td>\n",
       "      <td>NaN</td>\n",
       "      <td>21.151265</td>\n",
       "      <td>6.53402</td>\n",
       "      <td>NaN</td>\n",
       "      <td>NaN</td>\n",
       "      <td>0.050449</td>\n",
       "    </tr>\n",
       "    <tr>\n",
       "      <th>309</th>\n",
       "      <td>991020</td>\n",
       "      <td>Virgo I</td>\n",
       "      <td>0.555338</td>\n",
       "      <td>58.867426</td>\n",
       "      <td>24763.531222</td>\n",
       "      <td>0.463406</td>\n",
       "      <td>7.536744</td>\n",
       "      <td>2.763276</td>\n",
       "      <td>0.502295</td>\n",
       "      <td>0.342069</td>\n",
       "      <td>...</td>\n",
       "      <td>NaN</td>\n",
       "      <td>NaN</td>\n",
       "      <td>NaN</td>\n",
       "      <td>NaN</td>\n",
       "      <td>NaN</td>\n",
       "      <td>NaN</td>\n",
       "      <td>NaN</td>\n",
       "      <td>NaN</td>\n",
       "      <td>NaN</td>\n",
       "      <td>0.049411</td>\n",
       "    </tr>\n",
       "    <tr>\n",
       "      <th>364</th>\n",
       "      <td>992016</td>\n",
       "      <td>Virgo I</td>\n",
       "      <td>0.554174</td>\n",
       "      <td>60.551216</td>\n",
       "      <td>11439.589593</td>\n",
       "      <td>0.524210</td>\n",
       "      <td>7.485369</td>\n",
       "      <td>5.545963</td>\n",
       "      <td>0.430654</td>\n",
       "      <td>0.390630</td>\n",
       "      <td>...</td>\n",
       "      <td>NaN</td>\n",
       "      <td>NaN</td>\n",
       "      <td>NaN</td>\n",
       "      <td>NaN</td>\n",
       "      <td>NaN</td>\n",
       "      <td>NaN</td>\n",
       "      <td>NaN</td>\n",
       "      <td>NaN</td>\n",
       "      <td>NaN</td>\n",
       "      <td>0.049193</td>\n",
       "    </tr>\n",
       "    <tr>\n",
       "      <th>635</th>\n",
       "      <td>993012</td>\n",
       "      <td>Virgo I</td>\n",
       "      <td>0.612921</td>\n",
       "      <td>62.918772</td>\n",
       "      <td>24467.082523</td>\n",
       "      <td>0.481154</td>\n",
       "      <td>7.357494</td>\n",
       "      <td>5.868132</td>\n",
       "      <td>0.489407</td>\n",
       "      <td>0.348280</td>\n",
       "      <td>...</td>\n",
       "      <td>NaN</td>\n",
       "      <td>NaN</td>\n",
       "      <td>NaN</td>\n",
       "      <td>NaN</td>\n",
       "      <td>NaN</td>\n",
       "      <td>NaN</td>\n",
       "      <td>NaN</td>\n",
       "      <td>NaN</td>\n",
       "      <td>NaN</td>\n",
       "      <td>0.048858</td>\n",
       "    </tr>\n",
       "    <tr>\n",
       "      <th>897</th>\n",
       "      <td>994009</td>\n",
       "      <td>Virgo I</td>\n",
       "      <td>0.630974</td>\n",
       "      <td>50.942282</td>\n",
       "      <td>19221.268239</td>\n",
       "      <td>0.506944</td>\n",
       "      <td>7.312539</td>\n",
       "      <td>6.109797</td>\n",
       "      <td>0.412421</td>\n",
       "      <td>0.377290</td>\n",
       "      <td>...</td>\n",
       "      <td>NaN</td>\n",
       "      <td>NaN</td>\n",
       "      <td>NaN</td>\n",
       "      <td>NaN</td>\n",
       "      <td>NaN</td>\n",
       "      <td>NaN</td>\n",
       "      <td>NaN</td>\n",
       "      <td>NaN</td>\n",
       "      <td>NaN</td>\n",
       "      <td>0.048516</td>\n",
       "    </tr>\n",
       "  </tbody>\n",
       "</table>\n",
       "<p>5 rows × 80 columns</p>\n",
       "</div>"
      ],
      "text/plain": [
       "     galactic year   galaxy  existence expectancy index  \\\n",
       "2           990025  Virgo I                    0.659443   \n",
       "309         991020  Virgo I                    0.555338   \n",
       "364         992016  Virgo I                    0.554174   \n",
       "635         993012  Virgo I                    0.612921   \n",
       "897         994009  Virgo I                    0.630974   \n",
       "\n",
       "     existence expectancy at birth  Gross income per capita  Income Index  \\\n",
       "2                        59.570534              8441.707353      0.499762   \n",
       "309                      58.867426             24763.531222      0.463406   \n",
       "364                      60.551216             11439.589593      0.524210   \n",
       "635                      62.918772             24467.082523      0.481154   \n",
       "897                      50.942282             19221.268239      0.506944   \n",
       "\n",
       "     Expected years of education (galactic years)  \\\n",
       "2                                        8.840316   \n",
       "309                                      7.536744   \n",
       "364                                      7.485369   \n",
       "635                                      7.357494   \n",
       "897                                      7.312539   \n",
       "\n",
       "     Mean years of education (galactic years)  \\\n",
       "2                                    5.583973   \n",
       "309                                  2.763276   \n",
       "364                                  5.545963   \n",
       "635                                  5.868132   \n",
       "897                                  6.109797   \n",
       "\n",
       "     Intergalactic Development Index (IDI)  Education Index  ...  \\\n",
       "2                                 0.469110         0.363837  ...   \n",
       "309                               0.502295         0.342069  ...   \n",
       "364                               0.430654         0.390630  ...   \n",
       "635                               0.489407         0.348280  ...   \n",
       "897                               0.412421         0.377290  ...   \n",
       "\n",
       "     Intergalactic Development Index (IDI), female  \\\n",
       "2                                              NaN   \n",
       "309                                            NaN   \n",
       "364                                            NaN   \n",
       "635                                            NaN   \n",
       "897                                            NaN   \n",
       "\n",
       "     Intergalactic Development Index (IDI), male  \\\n",
       "2                                            NaN   \n",
       "309                                          NaN   \n",
       "364                                          NaN   \n",
       "635                                          NaN   \n",
       "897                                          NaN   \n",
       "\n",
       "     Gender Development Index (GDI)  \\\n",
       "2                               NaN   \n",
       "309                             NaN   \n",
       "364                             NaN   \n",
       "635                             NaN   \n",
       "897                             NaN   \n",
       "\n",
       "     Intergalactic Development Index (IDI), female, Rank  \\\n",
       "2                                                  NaN     \n",
       "309                                                NaN     \n",
       "364                                                NaN     \n",
       "635                                                NaN     \n",
       "897                                                NaN     \n",
       "\n",
       "     Intergalactic Development Index (IDI), male, Rank  Adjusted net savings   \\\n",
       "2                                                  NaN              21.151265   \n",
       "309                                                NaN                    NaN   \n",
       "364                                                NaN                    NaN   \n",
       "635                                                NaN                    NaN   \n",
       "897                                                NaN                    NaN   \n",
       "\n",
       "     Creature Immunodeficiency Disease prevalence, adult (% ages 15-49), total  \\\n",
       "2                                              6.53402                           \n",
       "309                                                NaN                           \n",
       "364                                                NaN                           \n",
       "635                                                NaN                           \n",
       "897                                                NaN                           \n",
       "\n",
       "     Private galaxy capital flows (% of GGP)  Gender Inequality Index (GII)  \\\n",
       "2                                        NaN                            NaN   \n",
       "309                                      NaN                            NaN   \n",
       "364                                      NaN                            NaN   \n",
       "635                                      NaN                            NaN   \n",
       "897                                      NaN                            NaN   \n",
       "\n",
       "            y  \n",
       "2    0.050449  \n",
       "309  0.049411  \n",
       "364  0.049193  \n",
       "635  0.048858  \n",
       "897  0.048516  \n",
       "\n",
       "[5 rows x 80 columns]"
      ]
     },
     "execution_count": 20,
     "metadata": {},
     "output_type": "execute_result"
    }
   ],
   "source": [
    "group1 = get_grouped_df(data_train, 'galaxy')\n",
    "group1['Virgo I'].head()\n",
    "#let's have a view of how each galaxy's mini dataframe looks like"
   ]
  },
  {
   "cell_type": "code",
   "execution_count": 21,
   "metadata": {},
   "outputs": [],
   "source": [
    "years_per_galaxy  = [len(group1[i]['galactic year']) \n",
    "                     for i in group1.keys()] #stores the number of galactic years per galaxy as a list\n",
    "\n",
    "unique_years_per_galaxy  = [len(group1[i]['galactic year'].unique()) \n",
    "                            for i in group1.keys()] \n",
    "                            #stores the number of unique galactic years per galaxy as a list"
   ]
  },
  {
   "cell_type": "code",
   "execution_count": 22,
   "metadata": {},
   "outputs": [
    {
     "data": {
      "text/plain": [
       "True"
      ]
     },
     "execution_count": 22,
     "metadata": {},
     "output_type": "execute_result"
    }
   ],
   "source": [
    "unique_years_per_galaxy == years_per_galaxy #checks for equality"
   ]
  },
  {
   "cell_type": "markdown",
   "metadata": {},
   "source": [
    "## 8. Similar to step 7 above, let's check if indeed for every galactic year in the training data, there is one unique galaxy per observation."
   ]
  },
  {
   "cell_type": "code",
   "execution_count": 23,
   "metadata": {},
   "outputs": [],
   "source": [
    "group2 = get_grouped_df(data_train, 'galactic year')\n",
    "\n",
    "galaxies_per_year  = [len(group2[i]['galaxy']) for i in group2.keys()]\n",
    "unique_galaxies_per_year  = [len(group2[i]['galaxy'].unique()) for i in group2.keys()]\n"
   ]
  },
  {
   "cell_type": "code",
   "execution_count": 24,
   "metadata": {},
   "outputs": [
    {
     "data": {
      "text/plain": [
       "True"
      ]
     },
     "execution_count": 24,
     "metadata": {},
     "output_type": "execute_result"
    }
   ],
   "source": [
    "galaxies_per_year == unique_galaxies_per_year"
   ]
  },
  {
   "cell_type": "markdown",
   "metadata": {},
   "source": [
    "## 9. let's repeat steps 7 and 8  but this time with the testing data."
   ]
  },
  {
   "cell_type": "code",
   "execution_count": 25,
   "metadata": {},
   "outputs": [
    {
     "data": {
      "text/plain": [
       "True"
      ]
     },
     "execution_count": 25,
     "metadata": {},
     "output_type": "execute_result"
    }
   ],
   "source": [
    "# similar to step 7\n",
    "group3 =  get_grouped_df(data_test, 'galaxy')\n",
    "\n",
    "years_per_galaxy_test  = [len(group3[i]['galactic year']) for i in group3.keys()]\n",
    "unique_years_per_galaxy_test  = [len(group3[i]['galactic year'].unique()) for i in group3.keys()]\n",
    "\n",
    "unique_years_per_galaxy_test == years_per_galaxy_test"
   ]
  },
  {
   "cell_type": "code",
   "execution_count": 26,
   "metadata": {},
   "outputs": [
    {
     "data": {
      "text/plain": [
       "True"
      ]
     },
     "execution_count": 26,
     "metadata": {},
     "output_type": "execute_result"
    }
   ],
   "source": [
    "# similar to step 8\n",
    "group4 = get_grouped_df(data_test, 'galactic year')\n",
    "\n",
    "galaxies_per_year_test  = [len(group4[i]['galaxy']) for i in group4.keys()]\n",
    "unique_galaxies_per_year_test  = [len(group4[i]['galaxy'].unique()) for i in group4.keys()]\n",
    "\n",
    "galaxies_per_year_test == unique_galaxies_per_year_test"
   ]
  },
  {
   "cell_type": "markdown",
   "metadata": {},
   "source": [
    "## 10. Let's check the relationship between sampling of galactic years in the training and the testing data."
   ]
  },
  {
   "cell_type": "code",
   "execution_count": 27,
   "metadata": {},
   "outputs": [
    {
     "name": "stdout",
     "output_type": "stream",
     "text": [
      "[990025, 991020, 992016, 993012, 994009, 995006, 996004, 997002, 998001, 999000, 1000000, 1001000, 1002001, 1003002, 1004004, 1005006, 1006009, 1007012, 1008016, 1009020, 1010025, 1011030, 1012036, 1013042, 1014049, 1015056] 26\n",
      "\n",
      "[1007012, 1008016, 1009020, 1010025, 1011030, 1012036, 1013042, 1014049, 1015056, 1016064] 10\n"
     ]
    }
   ],
   "source": [
    "unique_gal_years_train = set(data_train['galactic year']) #unique galactic years in the training data\n",
    "unique_gal_years_test = set(data_test['galactic year']) #unique galactic years in the testing data\n",
    "\n",
    "print(sorted(list(unique_gal_years_train)), len(unique_gal_years_train))\n",
    "print()\n",
    "print(sorted(list(unique_gal_years_test)), len(unique_gal_years_test))"
   ]
  },
  {
   "cell_type": "code",
   "execution_count": 28,
   "metadata": {},
   "outputs": [
    {
     "name": "stdout",
     "output_type": "stream",
     "text": [
      "{1014049, 1007012, 1012036, 1010025, 1008016, 1015056, 1013042, 1011030, 1009020} 9\n"
     ]
    }
   ],
   "source": [
    "common_gal_years = unique_gal_years_train & unique_gal_years_test\n",
    "print(common_gal_years, len(common_gal_years))\n",
    "#checks for common galactic years between training and testing data."
   ]
  },
  {
   "cell_type": "markdown",
   "metadata": {},
   "source": [
    "#### It seems 9 of the 10 galactic years in the testing data are sampled in the training data.\n",
    "\n",
    "#### Let's check the elapsed galactic year between two successive galactic years in the training data."
   ]
  },
  {
   "cell_type": "code",
   "execution_count": 29,
   "metadata": {},
   "outputs": [
    {
     "name": "stdout",
     "output_type": "stream",
     "text": [
      "[995, 996, 996, 997, 997, 998, 998, 999, 999, 1000, 1000, 1001, 1001, 1002, 1002, 1003, 1003, 1004, 1004, 1005, 1005, 1006, 1006, 1007, 1007]\n"
     ]
    }
   ],
   "source": [
    " print([sorted(list(unique_gal_years_train))[i+1] - sorted(list(unique_gal_years_train))[i] \n",
    "  for i in range(len(unique_gal_years_train) - 1)])"
   ]
  },
  {
   "cell_type": "markdown",
   "metadata": {},
   "source": [
    "#### It seems the first observations in the training data were sampled after 995 galactic years. Subsequent elapsed galactic years of sampling was increase by one after two samplings."
   ]
  },
  {
   "cell_type": "markdown",
   "metadata": {},
   "source": [
    "## 11. Let's import useful libraries."
   ]
  },
  {
   "cell_type": "code",
   "execution_count": 30,
   "metadata": {},
   "outputs": [],
   "source": [
    "from sklearn.preprocessing import StandardScaler, LabelEncoder, OneHotEncoder\n",
    "from sklearn.impute import SimpleImputer\n",
    "from sklearn.pipeline import Pipeline, FeatureUnion\n",
    "from sklearn.linear_model import LinearRegression\n",
    "from sklearn.model_selection import train_test_split\n",
    "from sklearn import tree\n",
    "from sklearn.neighbors import KNeighborsRegressor\n",
    "from sklearn.ensemble import RandomForestRegressor, GradientBoostingRegressor\n",
    "from sklearn.base import BaseEstimator, RegressorMixin, TransformerMixin\n",
    "from sklearn.decomposition import PCA\n",
    "from sklearn.metrics import mean_squared_error as mse\n",
    "from scipy.optimize import minimize, Bounds, LinearConstraint\n",
    "import math\n",
    "import warnings\n",
    "warnings.filterwarnings('ignore')"
   ]
  },
  {
   "cell_type": "code",
   "execution_count": 31,
   "metadata": {},
   "outputs": [],
   "source": [
    "X_train, X_test, y_train, y_test = train_test_split(data_train, data_labels, test_size=0.2, random_state=0)"
   ]
  },
  {
   "cell_type": "code",
   "execution_count": 32,
   "metadata": {},
   "outputs": [
    {
     "name": "stdout",
     "output_type": "stream",
     "text": [
      "\u001b[1;31mInit signature:\u001b[0m\n",
      "\u001b[0mGradientBoostingRegressor\u001b[0m\u001b[1;33m(\u001b[0m\u001b[1;33m\n",
      "\u001b[0m    \u001b[1;33m*\u001b[0m\u001b[1;33m,\u001b[0m\u001b[1;33m\n",
      "\u001b[0m    \u001b[0mloss\u001b[0m\u001b[1;33m=\u001b[0m\u001b[1;34m'ls'\u001b[0m\u001b[1;33m,\u001b[0m\u001b[1;33m\n",
      "\u001b[0m    \u001b[0mlearning_rate\u001b[0m\u001b[1;33m=\u001b[0m\u001b[1;36m0.1\u001b[0m\u001b[1;33m,\u001b[0m\u001b[1;33m\n",
      "\u001b[0m    \u001b[0mn_estimators\u001b[0m\u001b[1;33m=\u001b[0m\u001b[1;36m100\u001b[0m\u001b[1;33m,\u001b[0m\u001b[1;33m\n",
      "\u001b[0m    \u001b[0msubsample\u001b[0m\u001b[1;33m=\u001b[0m\u001b[1;36m1.0\u001b[0m\u001b[1;33m,\u001b[0m\u001b[1;33m\n",
      "\u001b[0m    \u001b[0mcriterion\u001b[0m\u001b[1;33m=\u001b[0m\u001b[1;34m'friedman_mse'\u001b[0m\u001b[1;33m,\u001b[0m\u001b[1;33m\n",
      "\u001b[0m    \u001b[0mmin_samples_split\u001b[0m\u001b[1;33m=\u001b[0m\u001b[1;36m2\u001b[0m\u001b[1;33m,\u001b[0m\u001b[1;33m\n",
      "\u001b[0m    \u001b[0mmin_samples_leaf\u001b[0m\u001b[1;33m=\u001b[0m\u001b[1;36m1\u001b[0m\u001b[1;33m,\u001b[0m\u001b[1;33m\n",
      "\u001b[0m    \u001b[0mmin_weight_fraction_leaf\u001b[0m\u001b[1;33m=\u001b[0m\u001b[1;36m0.0\u001b[0m\u001b[1;33m,\u001b[0m\u001b[1;33m\n",
      "\u001b[0m    \u001b[0mmax_depth\u001b[0m\u001b[1;33m=\u001b[0m\u001b[1;36m3\u001b[0m\u001b[1;33m,\u001b[0m\u001b[1;33m\n",
      "\u001b[0m    \u001b[0mmin_impurity_decrease\u001b[0m\u001b[1;33m=\u001b[0m\u001b[1;36m0.0\u001b[0m\u001b[1;33m,\u001b[0m\u001b[1;33m\n",
      "\u001b[0m    \u001b[0mmin_impurity_split\u001b[0m\u001b[1;33m=\u001b[0m\u001b[1;32mNone\u001b[0m\u001b[1;33m,\u001b[0m\u001b[1;33m\n",
      "\u001b[0m    \u001b[0minit\u001b[0m\u001b[1;33m=\u001b[0m\u001b[1;32mNone\u001b[0m\u001b[1;33m,\u001b[0m\u001b[1;33m\n",
      "\u001b[0m    \u001b[0mrandom_state\u001b[0m\u001b[1;33m=\u001b[0m\u001b[1;32mNone\u001b[0m\u001b[1;33m,\u001b[0m\u001b[1;33m\n",
      "\u001b[0m    \u001b[0mmax_features\u001b[0m\u001b[1;33m=\u001b[0m\u001b[1;32mNone\u001b[0m\u001b[1;33m,\u001b[0m\u001b[1;33m\n",
      "\u001b[0m    \u001b[0malpha\u001b[0m\u001b[1;33m=\u001b[0m\u001b[1;36m0.9\u001b[0m\u001b[1;33m,\u001b[0m\u001b[1;33m\n",
      "\u001b[0m    \u001b[0mverbose\u001b[0m\u001b[1;33m=\u001b[0m\u001b[1;36m0\u001b[0m\u001b[1;33m,\u001b[0m\u001b[1;33m\n",
      "\u001b[0m    \u001b[0mmax_leaf_nodes\u001b[0m\u001b[1;33m=\u001b[0m\u001b[1;32mNone\u001b[0m\u001b[1;33m,\u001b[0m\u001b[1;33m\n",
      "\u001b[0m    \u001b[0mwarm_start\u001b[0m\u001b[1;33m=\u001b[0m\u001b[1;32mFalse\u001b[0m\u001b[1;33m,\u001b[0m\u001b[1;33m\n",
      "\u001b[0m    \u001b[0mvalidation_fraction\u001b[0m\u001b[1;33m=\u001b[0m\u001b[1;36m0.1\u001b[0m\u001b[1;33m,\u001b[0m\u001b[1;33m\n",
      "\u001b[0m    \u001b[0mn_iter_no_change\u001b[0m\u001b[1;33m=\u001b[0m\u001b[1;32mNone\u001b[0m\u001b[1;33m,\u001b[0m\u001b[1;33m\n",
      "\u001b[0m    \u001b[0mtol\u001b[0m\u001b[1;33m=\u001b[0m\u001b[1;36m0.0001\u001b[0m\u001b[1;33m,\u001b[0m\u001b[1;33m\n",
      "\u001b[0m    \u001b[0mccp_alpha\u001b[0m\u001b[1;33m=\u001b[0m\u001b[1;36m0.0\u001b[0m\u001b[1;33m,\u001b[0m\u001b[1;33m\n",
      "\u001b[0m\u001b[1;33m)\u001b[0m\u001b[1;33m\u001b[0m\u001b[1;33m\u001b[0m\u001b[0m\n",
      "\u001b[1;31mDocstring:\u001b[0m     \n",
      "Gradient Boosting for regression.\n",
      "\n",
      "GB builds an additive model in a forward stage-wise fashion;\n",
      "it allows for the optimization of arbitrary differentiable loss functions.\n",
      "In each stage a regression tree is fit on the negative gradient of the\n",
      "given loss function.\n",
      "\n",
      "Read more in the :ref:`User Guide <gradient_boosting>`.\n",
      "\n",
      "Parameters\n",
      "----------\n",
      "loss : {'ls', 'lad', 'huber', 'quantile'}, default='ls'\n",
      "    Loss function to be optimized. 'ls' refers to least squares\n",
      "    regression. 'lad' (least absolute deviation) is a highly robust\n",
      "    loss function solely based on order information of the input\n",
      "    variables. 'huber' is a combination of the two. 'quantile'\n",
      "    allows quantile regression (use `alpha` to specify the quantile).\n",
      "\n",
      "learning_rate : float, default=0.1\n",
      "    Learning rate shrinks the contribution of each tree by `learning_rate`.\n",
      "    There is a trade-off between learning_rate and n_estimators.\n",
      "\n",
      "n_estimators : int, default=100\n",
      "    The number of boosting stages to perform. Gradient boosting\n",
      "    is fairly robust to over-fitting so a large number usually\n",
      "    results in better performance.\n",
      "\n",
      "subsample : float, default=1.0\n",
      "    The fraction of samples to be used for fitting the individual base\n",
      "    learners. If smaller than 1.0 this results in Stochastic Gradient\n",
      "    Boosting. `subsample` interacts with the parameter `n_estimators`.\n",
      "    Choosing `subsample < 1.0` leads to a reduction of variance\n",
      "    and an increase in bias.\n",
      "\n",
      "criterion : {'friedman_mse', 'mse', 'mae'}, default='friedman_mse'\n",
      "    The function to measure the quality of a split. Supported criteria\n",
      "    are \"friedman_mse\" for the mean squared error with improvement\n",
      "    score by Friedman, \"mse\" for mean squared error, and \"mae\" for\n",
      "    the mean absolute error. The default value of \"friedman_mse\" is\n",
      "    generally the best as it can provide a better approximation in\n",
      "    some cases.\n",
      "\n",
      "    .. versionadded:: 0.18\n",
      "    .. deprecated:: 0.24\n",
      "        `criterion='mae'` is deprecated and will be removed in version\n",
      "        1.1 (renaming of 0.26). The correct way of minimizing the absolute\n",
      "        error is to use `loss='lad'` instead.\n",
      "\n",
      "min_samples_split : int or float, default=2\n",
      "    The minimum number of samples required to split an internal node:\n",
      "\n",
      "    - If int, then consider `min_samples_split` as the minimum number.\n",
      "    - If float, then `min_samples_split` is a fraction and\n",
      "      `ceil(min_samples_split * n_samples)` are the minimum\n",
      "      number of samples for each split.\n",
      "\n",
      "    .. versionchanged:: 0.18\n",
      "       Added float values for fractions.\n",
      "\n",
      "min_samples_leaf : int or float, default=1\n",
      "    The minimum number of samples required to be at a leaf node.\n",
      "    A split point at any depth will only be considered if it leaves at\n",
      "    least ``min_samples_leaf`` training samples in each of the left and\n",
      "    right branches.  This may have the effect of smoothing the model,\n",
      "    especially in regression.\n",
      "\n",
      "    - If int, then consider `min_samples_leaf` as the minimum number.\n",
      "    - If float, then `min_samples_leaf` is a fraction and\n",
      "      `ceil(min_samples_leaf * n_samples)` are the minimum\n",
      "      number of samples for each node.\n",
      "\n",
      "    .. versionchanged:: 0.18\n",
      "       Added float values for fractions.\n",
      "\n",
      "min_weight_fraction_leaf : float, default=0.0\n",
      "    The minimum weighted fraction of the sum total of weights (of all\n",
      "    the input samples) required to be at a leaf node. Samples have\n",
      "    equal weight when sample_weight is not provided.\n",
      "\n",
      "max_depth : int, default=3\n",
      "    Maximum depth of the individual regression estimators. The maximum\n",
      "    depth limits the number of nodes in the tree. Tune this parameter\n",
      "    for best performance; the best value depends on the interaction\n",
      "    of the input variables.\n",
      "\n",
      "min_impurity_decrease : float, default=0.0\n",
      "    A node will be split if this split induces a decrease of the impurity\n",
      "    greater than or equal to this value.\n",
      "\n",
      "    The weighted impurity decrease equation is the following::\n",
      "\n",
      "        N_t / N * (impurity - N_t_R / N_t * right_impurity\n",
      "                            - N_t_L / N_t * left_impurity)\n",
      "\n",
      "    where ``N`` is the total number of samples, ``N_t`` is the number of\n",
      "    samples at the current node, ``N_t_L`` is the number of samples in the\n",
      "    left child, and ``N_t_R`` is the number of samples in the right child.\n",
      "\n",
      "    ``N``, ``N_t``, ``N_t_R`` and ``N_t_L`` all refer to the weighted sum,\n",
      "    if ``sample_weight`` is passed.\n",
      "\n",
      "    .. versionadded:: 0.19\n",
      "\n",
      "min_impurity_split : float, default=None\n",
      "    Threshold for early stopping in tree growth. A node will split\n",
      "    if its impurity is above the threshold, otherwise it is a leaf.\n",
      "\n",
      "    .. deprecated:: 0.19\n",
      "       ``min_impurity_split`` has been deprecated in favor of\n",
      "       ``min_impurity_decrease`` in 0.19. The default value of\n",
      "       ``min_impurity_split`` has changed from 1e-7 to 0 in 0.23 and it\n",
      "       will be removed in 1.0 (renaming of 0.25).\n",
      "       Use ``min_impurity_decrease`` instead.\n",
      "\n",
      "init : estimator or 'zero', default=None\n",
      "    An estimator object that is used to compute the initial predictions.\n",
      "    ``init`` has to provide :term:`fit` and :term:`predict`. If 'zero', the\n",
      "    initial raw predictions are set to zero. By default a\n",
      "    ``DummyEstimator`` is used, predicting either the average target value\n",
      "    (for loss='ls'), or a quantile for the other losses.\n",
      "\n",
      "random_state : int, RandomState instance or None, default=None\n",
      "    Controls the random seed given to each Tree estimator at each\n",
      "    boosting iteration.\n",
      "    In addition, it controls the random permutation of the features at\n",
      "    each split (see Notes for more details).\n",
      "    It also controls the random spliting of the training data to obtain a\n",
      "    validation set if `n_iter_no_change` is not None.\n",
      "    Pass an int for reproducible output across multiple function calls.\n",
      "    See :term:`Glossary <random_state>`.\n",
      "\n",
      "max_features : {'auto', 'sqrt', 'log2'}, int or float, default=None\n",
      "    The number of features to consider when looking for the best split:\n",
      "\n",
      "    - If int, then consider `max_features` features at each split.\n",
      "    - If float, then `max_features` is a fraction and\n",
      "      `int(max_features * n_features)` features are considered at each\n",
      "      split.\n",
      "    - If \"auto\", then `max_features=n_features`.\n",
      "    - If \"sqrt\", then `max_features=sqrt(n_features)`.\n",
      "    - If \"log2\", then `max_features=log2(n_features)`.\n",
      "    - If None, then `max_features=n_features`.\n",
      "\n",
      "    Choosing `max_features < n_features` leads to a reduction of variance\n",
      "    and an increase in bias.\n",
      "\n",
      "    Note: the search for a split does not stop until at least one\n",
      "    valid partition of the node samples is found, even if it requires to\n",
      "    effectively inspect more than ``max_features`` features.\n",
      "\n",
      "alpha : float, default=0.9\n",
      "    The alpha-quantile of the huber loss function and the quantile\n",
      "    loss function. Only if ``loss='huber'`` or ``loss='quantile'``.\n",
      "\n",
      "verbose : int, default=0\n",
      "    Enable verbose output. If 1 then it prints progress and performance\n",
      "    once in a while (the more trees the lower the frequency). If greater\n",
      "    than 1 then it prints progress and performance for every tree.\n",
      "\n",
      "max_leaf_nodes : int, default=None\n",
      "    Grow trees with ``max_leaf_nodes`` in best-first fashion.\n",
      "    Best nodes are defined as relative reduction in impurity.\n",
      "    If None then unlimited number of leaf nodes.\n",
      "\n",
      "warm_start : bool, default=False\n",
      "    When set to ``True``, reuse the solution of the previous call to fit\n",
      "    and add more estimators to the ensemble, otherwise, just erase the\n",
      "    previous solution. See :term:`the Glossary <warm_start>`.\n",
      "\n",
      "validation_fraction : float, default=0.1\n",
      "    The proportion of training data to set aside as validation set for\n",
      "    early stopping. Must be between 0 and 1.\n",
      "    Only used if ``n_iter_no_change`` is set to an integer.\n",
      "\n",
      "    .. versionadded:: 0.20\n",
      "\n",
      "n_iter_no_change : int, default=None\n",
      "    ``n_iter_no_change`` is used to decide if early stopping will be used\n",
      "    to terminate training when validation score is not improving. By\n",
      "    default it is set to None to disable early stopping. If set to a\n",
      "    number, it will set aside ``validation_fraction`` size of the training\n",
      "    data as validation and terminate training when validation score is not\n",
      "    improving in all of the previous ``n_iter_no_change`` numbers of\n",
      "    iterations.\n",
      "\n",
      "    .. versionadded:: 0.20\n",
      "\n",
      "tol : float, default=1e-4\n",
      "    Tolerance for the early stopping. When the loss is not improving\n",
      "    by at least tol for ``n_iter_no_change`` iterations (if set to a\n",
      "    number), the training stops.\n",
      "\n",
      "    .. versionadded:: 0.20\n",
      "\n",
      "ccp_alpha : non-negative float, default=0.0\n",
      "    Complexity parameter used for Minimal Cost-Complexity Pruning. The\n",
      "    subtree with the largest cost complexity that is smaller than\n",
      "    ``ccp_alpha`` will be chosen. By default, no pruning is performed. See\n",
      "    :ref:`minimal_cost_complexity_pruning` for details.\n",
      "\n",
      "    .. versionadded:: 0.22\n",
      "\n",
      "Attributes\n",
      "----------\n",
      "feature_importances_ : ndarray of shape (n_features,)\n",
      "    The impurity-based feature importances.\n",
      "    The higher, the more important the feature.\n",
      "    The importance of a feature is computed as the (normalized)\n",
      "    total reduction of the criterion brought by that feature.  It is also\n",
      "    known as the Gini importance.\n",
      "\n",
      "    Warning: impurity-based feature importances can be misleading for\n",
      "    high cardinality features (many unique values). See\n",
      "    :func:`sklearn.inspection.permutation_importance` as an alternative.\n",
      "\n",
      "oob_improvement_ : ndarray of shape (n_estimators,)\n",
      "    The improvement in loss (= deviance) on the out-of-bag samples\n",
      "    relative to the previous iteration.\n",
      "    ``oob_improvement_[0]`` is the improvement in\n",
      "    loss of the first stage over the ``init`` estimator.\n",
      "    Only available if ``subsample < 1.0``\n",
      "\n",
      "train_score_ : ndarray of shape (n_estimators,)\n",
      "    The i-th score ``train_score_[i]`` is the deviance (= loss) of the\n",
      "    model at iteration ``i`` on the in-bag sample.\n",
      "    If ``subsample == 1`` this is the deviance on the training data.\n",
      "\n",
      "loss_ : LossFunction\n",
      "    The concrete ``LossFunction`` object.\n",
      "\n",
      "init_ : estimator\n",
      "    The estimator that provides the initial predictions.\n",
      "    Set via the ``init`` argument or ``loss.init_estimator``.\n",
      "\n",
      "estimators_ : ndarray of DecisionTreeRegressor of shape (n_estimators, 1)\n",
      "    The collection of fitted sub-estimators.\n",
      "\n",
      "n_classes_ : int\n",
      "    The number of classes, set to 1 for regressors.\n",
      "\n",
      "    .. deprecated:: 0.24\n",
      "        Attribute ``n_classes_`` was deprecated in version 0.24 and\n",
      "        will be removed in 1.1 (renaming of 0.26).\n",
      "\n",
      "n_estimators_ : int\n",
      "    The number of estimators as selected by early stopping (if\n",
      "    ``n_iter_no_change`` is specified). Otherwise it is set to\n",
      "    ``n_estimators``.\n",
      "\n",
      "n_features_ : int\n",
      "    The number of data features.\n",
      "\n",
      "max_features_ : int\n",
      "    The inferred value of max_features.\n",
      "\n",
      "See Also\n",
      "--------\n",
      "HistGradientBoostingRegressor : Histogram-based Gradient Boosting\n",
      "    Classification Tree.\n",
      "sklearn.tree.DecisionTreeRegressor : A decision tree regressor.\n",
      "sklearn.tree.RandomForestRegressor : A random forest regressor.\n",
      "\n",
      "Notes\n",
      "-----\n",
      "The features are always randomly permuted at each split. Therefore,\n",
      "the best found split may vary, even with the same training data and\n",
      "``max_features=n_features``, if the improvement of the criterion is\n",
      "identical for several splits enumerated during the search of the best\n",
      "split. To obtain a deterministic behaviour during fitting,\n",
      "``random_state`` has to be fixed.\n",
      "\n",
      "Examples\n",
      "--------\n",
      ">>> from sklearn.datasets import make_regression\n",
      ">>> from sklearn.ensemble import GradientBoostingRegressor\n",
      ">>> from sklearn.model_selection import train_test_split\n",
      ">>> X, y = make_regression(random_state=0)\n",
      ">>> X_train, X_test, y_train, y_test = train_test_split(\n",
      "...     X, y, random_state=0)\n",
      ">>> reg = GradientBoostingRegressor(random_state=0)\n",
      ">>> reg.fit(X_train, y_train)\n",
      "GradientBoostingRegressor(random_state=0)\n",
      ">>> reg.predict(X_test[1:2])\n",
      "array([-61...])\n",
      ">>> reg.score(X_test, y_test)\n",
      "0.4...\n",
      "\n",
      "References\n",
      "----------\n",
      "J. Friedman, Greedy Function Approximation: A Gradient Boosting\n",
      "Machine, The Annals of Statistics, Vol. 29, No. 5, 2001.\n",
      "\n",
      "J. Friedman, Stochastic Gradient Boosting, 1999\n",
      "\n",
      "T. Hastie, R. Tibshirani and J. Friedman.\n",
      "Elements of Statistical Learning Ed. 2, Springer, 2009.\n",
      "\u001b[1;31mFile:\u001b[0m           c:\\users\\mr david\\anaconda3\\envs\\campusproject\\lib\\site-packages\\sklearn\\ensemble\\_gb.py\n",
      "\u001b[1;31mType:\u001b[0m           ABCMeta\n",
      "\u001b[1;31mSubclasses:\u001b[0m     \n"
     ]
    }
   ],
   "source": [
    "GradientBoostingRegressor?"
   ]
  },
  {
   "cell_type": "code",
   "execution_count": 33,
   "metadata": {},
   "outputs": [],
   "source": [
    "ran_f = RandomForestRegressor(random_state=0)\n",
    "model_pipe = Pipeline([('imp', SimpleImputer(strategy='median')), ('scaler', StandardScaler()), \n",
    "                       #('pca', PCA(n_components=10)), \n",
    "                       ('ran_f', ran_f)])"
   ]
  },
  {
   "cell_type": "markdown",
   "metadata": {},
   "source": [
    "## 12. Let's build a custom model for predictions\n",
    "\n",
    "#### This custom model will:\n",
    "- split the training data into groups.\n",
    "- split the testing data into groups.\n",
    "- for each testing data group, train the corresponding training data group and then use it to predict the testing data group.\n",
    "- for each testing data group, add the predicted labels as a new column in the group (minidf).\n",
    "- join all testing groups together to form a new df.\n",
    "- rearrange the predicted labels to correctly allign with their corresponding observations in the original testing data."
   ]
  },
  {
   "cell_type": "code",
   "execution_count": 36,
   "metadata": {},
   "outputs": [],
   "source": [
    "class GalaxyModel(BaseEstimator, RegressorMixin):\n",
    "    # this model is general purpose for grouping by and predicting any column, using any column as observation key, \n",
    "    #and for using any model.\n",
    "    \n",
    "    def __init__(self, key, label, ind, model): \n",
    "        self. key = key # key is the name of the column you want to groupby\n",
    "        self.label = label # label is the name of the column we want to predict\n",
    "        self.ind = ind # ind is the unique column in each mini df after grouping by key\n",
    "        self.model = model # model is the model you want to use\n",
    "        \n",
    "    def fit(self, X_train, y_train=None):\n",
    "# step1. split the training data into groups\n",
    "        \n",
    "        X = X_train.copy()\n",
    "        self.train_mini_df = get_grouped_df(X, self.key) \n",
    "        \n",
    "        return self\n",
    "    \n",
    "    def predict(self, X_test):\n",
    "# step2. split the testing data into groups\n",
    "        \n",
    "        X = X_test.copy()\n",
    "        self.test_mini_df = get_grouped_df(X, self.key)\n",
    "        \n",
    "# step3: \n",
    "# for each testing data group, train the corresponding training data group and then use it to predict the testing data group\n",
    "\n",
    "        for key in self.test_mini_df:\n",
    "            if key == 1016064: # uses galactic year 1015056 since 1016064 is not in testing data\n",
    "                key = 1015056\n",
    "                \n",
    "            X_train = self.train_mini_df[key].copy().drop(self.key, axis=1) \n",
    "            #drops key and ind columns of a copy training minidf\n",
    "            \n",
    "            y_label = np.array(X_train.pop(self.label)).reshape(-1, 1) # pops out label data as an array with 1 column\n",
    "            \n",
    "            self.model.fit(X_train, y_label) #fitting model on training data\n",
    "            \n",
    "            mini_X_test = self.test_mini_df[key].copy().drop(self.key, axis=1) \n",
    "            #drops key and ind columns of a copy testing minidf\n",
    "            \n",
    "            y_pred = self.model.predict(mini_X_test) #predicting testing data\n",
    "            \n",
    "#step4. for each testing data group, add the predicted labels as a new column in the group (minidf)\n",
    "            self.test_mini_df[key][self.label] = y_pred \n",
    "            \n",
    "# step5. join all testing groups together to form a new df\n",
    "        pred_df = pd.concat([df for _, df in self.test_mini_df.items()])\n",
    "        \n",
    "# step6. creates a df consisting of three columns namely; galactic year, galaxy and predicted index\n",
    "        pred_df = pred_df[['galactic year', 'galaxy', 'y']]\n",
    "        \n",
    "        \n",
    "# step7. rearrange the predicted labels to correctly allign with their corresponding observations in the original testing data\n",
    "        X_pred = X_test.copy().merge(pred_df, on=['galactic year', 'galaxy'], how='inner')\n",
    "        \n",
    "        return X_pred['y']\n",
    "            \n",
    "            "
   ]
  },
  {
   "cell_type": "code",
   "execution_count": 35,
   "metadata": {},
   "outputs": [],
   "source": [
    "model = GalaxyModel('galaxy', 'y', 'galactic year', model_pipe)"
   ]
  },
  {
   "cell_type": "code",
   "execution_count": 37,
   "metadata": {},
   "outputs": [
    {
     "data": {
      "text/plain": [
       "GalaxyModel(ind='galactic year', key='galaxy', label='y',\n",
       "            model=Pipeline(steps=[('imp', SimpleImputer(strategy='median')),\n",
       "                                  ('scaler', StandardScaler()),\n",
       "                                  ('ran_f',\n",
       "                                   RandomForestRegressor(random_state=0))]))"
      ]
     },
     "execution_count": 37,
     "metadata": {},
     "output_type": "execute_result"
    }
   ],
   "source": [
    "model.fit(data_train.copy())"
   ]
  },
  {
   "cell_type": "code",
   "execution_count": 38,
   "metadata": {},
   "outputs": [],
   "source": [
    "y_pred = model.predict(data_test.copy())"
   ]
  },
  {
   "cell_type": "code",
   "execution_count": 39,
   "metadata": {},
   "outputs": [
    {
     "data": {
      "text/plain": [
       "0      0.043611\n",
       "1      0.040866\n",
       "2      0.039047\n",
       "3      0.042279\n",
       "4      0.033085\n",
       "         ...   \n",
       "885    0.044885\n",
       "886    0.051474\n",
       "887    0.076623\n",
       "888    0.066935\n",
       "889    0.045735\n",
       "Name: y, Length: 890, dtype: float64"
      ]
     },
     "execution_count": 39,
     "metadata": {},
     "output_type": "execute_result"
    }
   ],
   "source": [
    "y_pred"
   ]
  },
  {
   "cell_type": "code",
   "execution_count": null,
   "metadata": {},
   "outputs": [],
   "source": [
    "#mse(y_test, y_pred, squared=False)"
   ]
  },
  {
   "cell_type": "code",
   "execution_count": null,
   "metadata": {},
   "outputs": [],
   "source": [
    "#feature_names = data_test.columns.drop('galaxy')\n",
    "#df = pd.DataFrame({'importance': model.model.named_steps['ran_f'].feature_importances_}, index=feature_names)\n",
    "#feature_dict = {i:df.loc[i, 'importance'] for i in df.index}\n",
    "#unimportant_features = [i for i in feature_dict if feature_dict[i]==0]"
   ]
  },
  {
   "cell_type": "code",
   "execution_count": null,
   "metadata": {},
   "outputs": [],
   "source": [
    "#knn = KNeighborsRegressor(n_neighbors=20)\n",
    "#model2_pipe = Pipeline([('imp', SimpleImputer(strategy='median')), ('scaler', StandardScaler()), \n",
    "                       #('pca', PCA(n_components=10)), \n",
    "#                       ('knn', knn)])"
   ]
  },
  {
   "cell_type": "code",
   "execution_count": null,
   "metadata": {},
   "outputs": [],
   "source": [
    "#y_train2 = X_train.copy().pop('y')"
   ]
  },
  {
   "cell_type": "code",
   "execution_count": null,
   "metadata": {},
   "outputs": [],
   "source": [
    "#model2_pipe.fit(X_train.copy().drop(['y', 'galaxy'], axis=1), y_train2 )"
   ]
  },
  {
   "cell_type": "code",
   "execution_count": null,
   "metadata": {},
   "outputs": [],
   "source": [
    "#y_pred2 = model2_pipe.predict(X_test.copy().drop(['y', 'galaxy'], axis=1))"
   ]
  },
  {
   "cell_type": "code",
   "execution_count": null,
   "metadata": {},
   "outputs": [],
   "source": [
    "#mse(y_test, y_pred2, squared=False)"
   ]
  },
  {
   "cell_type": "markdown",
   "metadata": {},
   "source": [
    "## 13. Optimization Problem.\n",
    "\n",
    "#### to minimize in scipy use the scipy.optimize.minimize library.\n",
    "\n",
    "#### check out scipy.optimze.minimize function [here](https://docs.scipy.org/doc/scipy/reference/tutorial/optimize.html)"
   ]
  },
  {
   "cell_type": "code",
   "execution_count": 40,
   "metadata": {},
   "outputs": [],
   "source": [
    "pot_for_inc = -np.log(y_pred + 0.01) + 3 # calculates potential for improvement in index"
   ]
  },
  {
   "cell_type": "code",
   "execution_count": 41,
   "metadata": {},
   "outputs": [],
   "source": [
    "def likely_increase(X, p):\n",
    "    return -sum(X * p**2 /1000) # calculates total likely increase in index. \n",
    "    #the minus sign is because we want to maximize the function since minimizing -a is same as maximizing a."
   ]
  },
  {
   "cell_type": "code",
   "execution_count": 42,
   "metadata": {},
   "outputs": [],
   "source": [
    "s_imp = SimpleImputer(strategy='median')"
   ]
  },
  {
   "cell_type": "code",
   "execution_count": 43,
   "metadata": {},
   "outputs": [],
   "source": [
    "# drops the galaxy column since we can't imputation can't work with string\n",
    "data_test_copy = data_test.copy().drop('galaxy', axis=1)\n",
    "cols = data_test_copy.columns # store the columns names excluding that of galaxy.\n",
    "data_test_copy = s_imp.fit_transform(data_test_copy) # imputates\n",
    "data_test_copy = pd.DataFrame(data_test_copy, columns=cols) # converts to dataframe\n",
    "\n",
    "# filters rows with existence expectancy index < 0.7\n",
    "low_eei = data_test_copy[data_test_copy['existence expectancy index'] < 0.7]  \n"
   ]
  },
  {
   "cell_type": "code",
   "execution_count": 44,
   "metadata": {},
   "outputs": [
    {
     "data": {
      "text/plain": [
       "66"
      ]
     },
     "execution_count": 44,
     "metadata": {},
     "output_type": "execute_result"
    }
   ],
   "source": [
    "data_test_copy2 = data_test_copy.sort_values(by='existence expectancy index') # sorts df by existence expectancy index\n",
    "\n",
    "# check if original testing data set has top rows coresponding to rows with existence expectancy index < 0.7\n",
    "sum(data_test_copy.loc[:len(low_eei) - 1, 'existence expectancy index'] == low_eei['existence expectancy index'])"
   ]
  },
  {
   "cell_type": "code",
   "execution_count": 45,
   "metadata": {},
   "outputs": [],
   "source": [
    "boundary = Bounds([0]*890, [100]*890) # creates boundary constraint of 0 <= x <= 100\n",
    "constraint1 = LinearConstraint([1]*890, [50000], [50000]) # creates constraint of sum(x) = 50,000\n",
    "\n",
    "# create constraint of sum(extra energy of galaxies with existence expectancy index < 0.7) >= 10% 0f 50,000\n",
    "constraint2 = LinearConstraint([1]*66 + [0]*824, [5000], [np.inf])"
   ]
  },
  {
   "cell_type": "code",
   "execution_count": 46,
   "metadata": {},
   "outputs": [],
   "source": [
    "X0 = np.array([100]*66 + [52]*800 + [75]*24) # initial optimized extra energy guess"
   ]
  },
  {
   "cell_type": "code",
   "execution_count": 47,
   "metadata": {},
   "outputs": [],
   "source": [
    "res = minimize(likely_increase, X0, args=(pot_for_inc,), constraints=[constraint1, constraint2],\n",
    "               bounds=boundary, options={'verbose': 1}) # optimizes"
   ]
  },
  {
   "cell_type": "code",
   "execution_count": 48,
   "metadata": {},
   "outputs": [
    {
     "data": {
      "text/plain": [
       "1744.836149036213"
      ]
     },
     "execution_count": 48,
     "metadata": {},
     "output_type": "execute_result"
    }
   ],
   "source": [
    "opt_pred = res.x # stores optimal extra energy\n",
    "-res.fun # checks maximum sum of likely increase in index"
   ]
  },
  {
   "cell_type": "code",
   "execution_count": 49,
   "metadata": {},
   "outputs": [
    {
     "data": {
      "text/html": [
       "<div>\n",
       "<style scoped>\n",
       "    .dataframe tbody tr th:only-of-type {\n",
       "        vertical-align: middle;\n",
       "    }\n",
       "\n",
       "    .dataframe tbody tr th {\n",
       "        vertical-align: top;\n",
       "    }\n",
       "\n",
       "    .dataframe thead th {\n",
       "        text-align: right;\n",
       "    }\n",
       "</style>\n",
       "<table border=\"1\" class=\"dataframe\">\n",
       "  <thead>\n",
       "    <tr style=\"text-align: right;\">\n",
       "      <th></th>\n",
       "      <th>Index</th>\n",
       "      <th>pred</th>\n",
       "      <th>opt_pred</th>\n",
       "    </tr>\n",
       "  </thead>\n",
       "  <tbody>\n",
       "    <tr>\n",
       "      <th>0</th>\n",
       "      <td>0</td>\n",
       "      <td>0.043611</td>\n",
       "      <td>100.000000</td>\n",
       "    </tr>\n",
       "    <tr>\n",
       "      <th>1</th>\n",
       "      <td>1</td>\n",
       "      <td>0.040866</td>\n",
       "      <td>100.000000</td>\n",
       "    </tr>\n",
       "    <tr>\n",
       "      <th>2</th>\n",
       "      <td>2</td>\n",
       "      <td>0.039047</td>\n",
       "      <td>100.000000</td>\n",
       "    </tr>\n",
       "    <tr>\n",
       "      <th>3</th>\n",
       "      <td>3</td>\n",
       "      <td>0.042279</td>\n",
       "      <td>100.000000</td>\n",
       "    </tr>\n",
       "    <tr>\n",
       "      <th>4</th>\n",
       "      <td>4</td>\n",
       "      <td>0.033085</td>\n",
       "      <td>100.000000</td>\n",
       "    </tr>\n",
       "    <tr>\n",
       "      <th>...</th>\n",
       "      <td>...</td>\n",
       "      <td>...</td>\n",
       "      <td>...</td>\n",
       "    </tr>\n",
       "    <tr>\n",
       "      <th>885</th>\n",
       "      <td>885</td>\n",
       "      <td>0.044885</td>\n",
       "      <td>100.000000</td>\n",
       "    </tr>\n",
       "    <tr>\n",
       "      <th>886</th>\n",
       "      <td>886</td>\n",
       "      <td>0.051474</td>\n",
       "      <td>89.569006</td>\n",
       "    </tr>\n",
       "    <tr>\n",
       "      <th>887</th>\n",
       "      <td>887</td>\n",
       "      <td>0.076623</td>\n",
       "      <td>55.094655</td>\n",
       "    </tr>\n",
       "    <tr>\n",
       "      <th>888</th>\n",
       "      <td>888</td>\n",
       "      <td>0.066935</td>\n",
       "      <td>66.746014</td>\n",
       "    </tr>\n",
       "    <tr>\n",
       "      <th>889</th>\n",
       "      <td>889</td>\n",
       "      <td>0.045735</td>\n",
       "      <td>99.889701</td>\n",
       "    </tr>\n",
       "  </tbody>\n",
       "</table>\n",
       "<p>890 rows × 3 columns</p>\n",
       "</div>"
      ],
      "text/plain": [
       "     Index      pred    opt_pred\n",
       "0        0  0.043611  100.000000\n",
       "1        1  0.040866  100.000000\n",
       "2        2  0.039047  100.000000\n",
       "3        3  0.042279  100.000000\n",
       "4        4  0.033085  100.000000\n",
       "..     ...       ...         ...\n",
       "885    885  0.044885  100.000000\n",
       "886    886  0.051474   89.569006\n",
       "887    887  0.076623   55.094655\n",
       "888    888  0.066935   66.746014\n",
       "889    889  0.045735   99.889701\n",
       "\n",
       "[890 rows x 3 columns]"
      ]
     },
     "execution_count": 49,
     "metadata": {},
     "output_type": "execute_result"
    }
   ],
   "source": [
    "solution1 = pd.DataFrame({'Index': data_test.index, 'pred': y_pred, 'opt_pred': opt_pred}) # stores solution as df\n",
    "solution1"
   ]
  },
  {
   "cell_type": "code",
   "execution_count": null,
   "metadata": {},
   "outputs": [],
   "source": [
    "solution1.to_csv('solution1.csv') # stores solution to disk as csv file to be submitted!"
   ]
  }
 ],
 "metadata": {
  "kernelspec": {
   "display_name": "Python 3",
   "language": "python",
   "name": "python3"
  },
  "language_info": {
   "codemirror_mode": {
    "name": "ipython",
    "version": 3
   },
   "file_extension": ".py",
   "mimetype": "text/x-python",
   "name": "python",
   "nbconvert_exporter": "python",
   "pygments_lexer": "ipython3",
   "version": "3.8.11"
  }
 },
 "nbformat": 4,
 "nbformat_minor": 4
}
